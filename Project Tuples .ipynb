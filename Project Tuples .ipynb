{
 "cells": [
  {
   "cell_type": "code",
   "execution_count": 1,
   "id": "47b7da25",
   "metadata": {},
   "outputs": [
    {
     "data": {
      "text/plain": [
       "('Sahiq', 'Robin', 'Hasib', 'Irfan', 'Jarir')"
      ]
     },
     "execution_count": 1,
     "metadata": {},
     "output_type": "execute_result"
    }
   ],
   "source": [
    "a=(\"Sahiq\",\"Robin\",\"Hasib\",\"Irfan\",\"Jarir\")\n",
    "a"
   ]
  },
  {
   "cell_type": "code",
   "execution_count": 2,
   "id": "8b2d33d7",
   "metadata": {},
   "outputs": [
    {
     "data": {
      "text/plain": [
       "tuple"
      ]
     },
     "execution_count": 2,
     "metadata": {},
     "output_type": "execute_result"
    }
   ],
   "source": [
    "type(a)"
   ]
  },
  {
   "cell_type": "code",
   "execution_count": 3,
   "id": "0c49a4a7",
   "metadata": {},
   "outputs": [
    {
     "data": {
      "text/plain": [
       "5"
      ]
     },
     "execution_count": 3,
     "metadata": {},
     "output_type": "execute_result"
    }
   ],
   "source": [
    "a=(\"Sahiq\",\"Robin\",\"Hasib\",\"Irfan\",\"Jarir\")\n",
    "b=len(a)\n",
    "b"
   ]
  },
  {
   "cell_type": "code",
   "execution_count": 6,
   "id": "6dc72b04",
   "metadata": {},
   "outputs": [
    {
     "data": {
      "text/plain": [
       "5"
      ]
     },
     "execution_count": 6,
     "metadata": {},
     "output_type": "execute_result"
    }
   ],
   "source": [
    "a=(\"Sahiq\",\"Robin\",\"Hasib\",\"Irfan\",\"Jarir\")\n",
    "len(a)"
   ]
  },
  {
   "cell_type": "code",
   "execution_count": 7,
   "id": "8980e171",
   "metadata": {},
   "outputs": [
    {
     "data": {
      "text/plain": [
       "tuple"
      ]
     },
     "execution_count": 7,
     "metadata": {},
     "output_type": "execute_result"
    }
   ],
   "source": [
    "a=(\"Sahiq\",)\n",
    "type(a)"
   ]
  },
  {
   "cell_type": "code",
   "execution_count": 8,
   "id": "a3ff76c8",
   "metadata": {},
   "outputs": [
    {
     "data": {
      "text/plain": [
       "'Sahiq'"
      ]
     },
     "execution_count": 8,
     "metadata": {},
     "output_type": "execute_result"
    }
   ],
   "source": [
    "b=(\"Sahiq\")\n",
    "b"
   ]
  },
  {
   "cell_type": "code",
   "execution_count": 9,
   "id": "c5adbf85",
   "metadata": {},
   "outputs": [
    {
     "data": {
      "text/plain": [
       "str"
      ]
     },
     "execution_count": 9,
     "metadata": {},
     "output_type": "execute_result"
    }
   ],
   "source": [
    "type(b)"
   ]
  },
  {
   "cell_type": "code",
   "execution_count": 10,
   "id": "2d7a6c13",
   "metadata": {},
   "outputs": [
    {
     "data": {
      "text/plain": [
       "('Sahiq', 'Robin', 'Hasib', 'Irfan', 'Jarir')"
      ]
     },
     "execution_count": 10,
     "metadata": {},
     "output_type": "execute_result"
    }
   ],
   "source": [
    "a=(\"Sahiq\",\"Robin\",\"Hasib\",\"Irfan\",\"Jarir\")\n",
    "a"
   ]
  },
  {
   "cell_type": "code",
   "execution_count": 11,
   "id": "4cef0a7b",
   "metadata": {},
   "outputs": [
    {
     "data": {
      "text/plain": [
       "tuple"
      ]
     },
     "execution_count": 11,
     "metadata": {},
     "output_type": "execute_result"
    }
   ],
   "source": [
    "type(a)"
   ]
  },
  {
   "cell_type": "code",
   "execution_count": 13,
   "id": "eede3aca",
   "metadata": {},
   "outputs": [
    {
     "data": {
      "text/plain": [
       "'Jarir'"
      ]
     },
     "execution_count": 13,
     "metadata": {},
     "output_type": "execute_result"
    }
   ],
   "source": [
    "a=(\"Sahiq\",\"Robin\",\"Hasib\",\"Irfan\",\"Jarir\")\n",
    "a[4]"
   ]
  },
  {
   "cell_type": "code",
   "execution_count": 15,
   "id": "4d640f7f",
   "metadata": {},
   "outputs": [
    {
     "data": {
      "text/plain": [
       "'Jarir'"
      ]
     },
     "execution_count": 15,
     "metadata": {},
     "output_type": "execute_result"
    }
   ],
   "source": [
    "a=(\"Sahiq\",\"Robin\",\"Hasib\",\"Irfan\",\"Jarir\")\n",
    "a[-1]"
   ]
  },
  {
   "cell_type": "code",
   "execution_count": 17,
   "id": "ef71e41e",
   "metadata": {},
   "outputs": [
    {
     "data": {
      "text/plain": [
       "('Robin', 'Hasib', 'Irfan')"
      ]
     },
     "execution_count": 17,
     "metadata": {},
     "output_type": "execute_result"
    }
   ],
   "source": [
    "a=(\"Sahiq\",\"Robin\",\"Hasib\",\"Irfan\",\"Jarir\")\n",
    "a[1:4]"
   ]
  },
  {
   "cell_type": "code",
   "execution_count": 18,
   "id": "7f6ebaa2",
   "metadata": {},
   "outputs": [
    {
     "data": {
      "text/plain": [
       "('Sahiq', 'Robin', 'Hasib', 'Irfan')"
      ]
     },
     "execution_count": 18,
     "metadata": {},
     "output_type": "execute_result"
    }
   ],
   "source": [
    "a=(\"Sahiq\",\"Robin\",\"Hasib\",\"Irfan\",\"Jarir\")\n",
    "a[:4]"
   ]
  },
  {
   "cell_type": "code",
   "execution_count": null,
   "id": "97f9d52a",
   "metadata": {},
   "outputs": [],
   "source": [
    "a=(\"Sahiq\",\"Robin\",\"Hasib\",\"Irfan\",\"Jarir\")\n",
    "if \"Robin\" in a:\n",
    "    print(\"Yes...!!!! He is being participated with us\")"
   ]
  },
  {
   "cell_type": "code",
   "execution_count": 1,
   "id": "417cb8c7",
   "metadata": {},
   "outputs": [
    {
     "name": "stdout",
     "output_type": "stream",
     "text": [
      "Yes,He is being presented in this program...!!!\n"
     ]
    }
   ],
   "source": [
    "a=(\"Sahiq\",\"Robin\",\"Hasib\",\"Irfan\",\"Jarir\")\n",
    "if \"Sahiq\" in a:\n",
    "    print(\"Yes,He is being presented in this program...!!!\")"
   ]
  },
  {
   "cell_type": "code",
   "execution_count": 6,
   "id": "03ff6b0c",
   "metadata": {},
   "outputs": [
    {
     "data": {
      "text/plain": [
       "('Sahiq', 'Abir Miah', 'Hasib', 'Irfan', 'Jarir')"
      ]
     },
     "execution_count": 6,
     "metadata": {},
     "output_type": "execute_result"
    }
   ],
   "source": [
    "a=(\"Sahiq\",\"Robin\",\"Hasib\",\"Irfan\",\"Jarir\")\n",
    "b=list(a)\n",
    "b[1]=\"Abir Miah\"\n",
    "a=tuple(b)\n",
    "a"
   ]
  },
  {
   "cell_type": "code",
   "execution_count": 2,
   "id": "d0731945",
   "metadata": {},
   "outputs": [
    {
     "data": {
      "text/plain": [
       "['Sahiq', 'Robin', 'Hasib', 'Irfan', 'Jarir', 'Orange']"
      ]
     },
     "execution_count": 2,
     "metadata": {},
     "output_type": "execute_result"
    }
   ],
   "source": [
    "a=(\"Sahiq\",\"Robin\",\"Hasib\",\"Irfan\",\"Jarir\")\n",
    "b=list(a)\n",
    "b.append(\"Orange\")\n",
    "b"
   ]
  },
  {
   "cell_type": "code",
   "execution_count": 6,
   "id": "3b6297e6",
   "metadata": {},
   "outputs": [
    {
     "data": {
      "text/plain": [
       "['Sahiq', 'Robin', 'Hasib', 'Irfan', 'Jarir', 'Abdullah']"
      ]
     },
     "execution_count": 6,
     "metadata": {},
     "output_type": "execute_result"
    }
   ],
   "source": [
    "txt=(\"Sahiq\",\"Robin\",\"Hasib\",\"Irfan\",\"Jarir\")\n",
    "txt1=list(txt)\n",
    "txt1.append(\"Abdullah\")\n",
    "txt1"
   ]
  },
  {
   "cell_type": "code",
   "execution_count": 10,
   "id": "6b6fbef4",
   "metadata": {},
   "outputs": [
    {
     "data": {
      "text/plain": [
       "['Sahiq', 'Hasib', 'Irfan', 'Jarir']"
      ]
     },
     "execution_count": 10,
     "metadata": {},
     "output_type": "execute_result"
    }
   ],
   "source": [
    "a=(\"Sahiq\",\"Robin\",\"Hasib\",\"Irfan\",\"Jarir\")\n",
    "b=list(a)\n",
    "b.remove(\"Robin\")\n",
    "b"
   ]
  },
  {
   "cell_type": "code",
   "execution_count": 19,
   "id": "5385a6d9",
   "metadata": {},
   "outputs": [
    {
     "data": {
      "text/plain": [
       "('Sahiq', 'Robin', 'Hasib', 'Irfan', 'Jarir', 1, 2, 3, 4, 5, 6, 7)"
      ]
     },
     "execution_count": 19,
     "metadata": {},
     "output_type": "execute_result"
    }
   ],
   "source": [
    "a=(\"Sahiq\",\"Robin\",\"Hasib\",\"Irfan\",\"Jarir\")\n",
    "b=(1,2,3,4,5,6,7)\n",
    "s=a+b\n",
    "s"
   ]
  },
  {
   "cell_type": "code",
   "execution_count": 23,
   "id": "de7c9512",
   "metadata": {},
   "outputs": [
    {
     "data": {
      "text/plain": [
       "['Sahiq', 'Hasib', 'Irfan', 'Jarir', 1, 2, 3, 4, 5, 6, 7]"
      ]
     },
     "execution_count": 23,
     "metadata": {},
     "output_type": "execute_result"
    }
   ],
   "source": [
    "d=list(s)\n",
    "d.remove(\"Robin\")\n",
    "d"
   ]
  },
  {
   "cell_type": "code",
   "execution_count": 25,
   "id": "ecd0709e",
   "metadata": {},
   "outputs": [
    {
     "data": {
      "text/plain": [
       "4"
      ]
     },
     "execution_count": 25,
     "metadata": {},
     "output_type": "execute_result"
    }
   ],
   "source": [
    "a=(1,2,3,4,3,2,3,2,2,2,2,2,2,2,3,3,3,34,4,4,4,5)\n",
    "a.count(2)\n",
    "a.count(4)"
   ]
  }
 ],
 "metadata": {
  "kernelspec": {
   "display_name": "Python 3 (ipykernel)",
   "language": "python",
   "name": "python3"
  },
  "language_info": {
   "codemirror_mode": {
    "name": "ipython",
    "version": 3
   },
   "file_extension": ".py",
   "mimetype": "text/x-python",
   "name": "python",
   "nbconvert_exporter": "python",
   "pygments_lexer": "ipython3",
   "version": "3.11.5"
  }
 },
 "nbformat": 4,
 "nbformat_minor": 5
}
